{
  "nbformat": 4,
  "nbformat_minor": 0,
  "metadata": {
    "colab": {
      "provenance": [],
      "authorship_tag": "ABX9TyO9t3vGf4/qprzCU91vui3q",
      "include_colab_link": true
    },
    "kernelspec": {
      "name": "python3",
      "display_name": "Python 3"
    },
    "language_info": {
      "name": "python"
    }
  },
  "cells": [
    {
      "cell_type": "markdown",
      "metadata": {
        "id": "view-in-github",
        "colab_type": "text"
      },
      "source": [
        "<a href=\"https://colab.research.google.com/github/david4096/galaxy-test/blob/main/preprocess_LORIS.ipynb\" target=\"_parent\"><img src=\"https://colab.research.google.com/assets/colab-badge.svg\" alt=\"Open In Colab\"/></a>"
      ]
    },
    {
      "cell_type": "code",
      "execution_count": null,
      "metadata": {
        "id": "If4JHO82f6s4"
      },
      "outputs": [],
      "source": [
        "# upload TSV - get jeremy's script in here"
      ]
    },
    {
      "cell_type": "code",
      "source": [
        "# split TSV"
      ],
      "metadata": {
        "id": "mAM-7fXngJF3"
      },
      "execution_count": null,
      "outputs": []
    },
    {
      "cell_type": "code",
      "source": [
        "# download to machine or share in a way galaxy can use"
      ],
      "metadata": {
        "id": "X810IGnLgKK8"
      },
      "execution_count": null,
      "outputs": []
    }
  ]
}